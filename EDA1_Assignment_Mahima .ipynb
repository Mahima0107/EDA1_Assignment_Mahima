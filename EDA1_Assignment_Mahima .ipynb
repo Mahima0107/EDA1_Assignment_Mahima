{
 "cells": [
  {
   "cell_type": "markdown",
   "id": "d8177917-39ec-4a01-bb10-32a9d8500aa0",
   "metadata": {},
   "source": [
    "# Assignment : "
   ]
  },
  {
   "cell_type": "code",
   "execution_count": 3,
   "id": "aa7341bd-647d-4c79-8d1d-5fb3fee80732",
   "metadata": {},
   "outputs": [],
   "source": [
    "import pandas as pd \n",
    "import numpy as np \n",
    "import matplotlib.pyplot as plt \n",
    "import seaborn as sns"
   ]
  },
  {
   "cell_type": "code",
   "execution_count": 4,
   "id": "d4a0efcd-33af-4cc5-8bb7-b2d6c4122695",
   "metadata": {},
   "outputs": [
    {
     "data": {
      "text/html": [
       "<div>\n",
       "<style scoped>\n",
       "    .dataframe tbody tr th:only-of-type {\n",
       "        vertical-align: middle;\n",
       "    }\n",
       "\n",
       "    .dataframe tbody tr th {\n",
       "        vertical-align: top;\n",
       "    }\n",
       "\n",
       "    .dataframe thead th {\n",
       "        text-align: right;\n",
       "    }\n",
       "</style>\n",
       "<table border=\"1\" class=\"dataframe\">\n",
       "  <thead>\n",
       "    <tr style=\"text-align: right;\">\n",
       "      <th></th>\n",
       "      <th>Car_Name</th>\n",
       "      <th>Year</th>\n",
       "      <th>Selling_Price</th>\n",
       "      <th>Present_Price</th>\n",
       "      <th>Kms_Driven</th>\n",
       "      <th>Fuel_Type</th>\n",
       "      <th>Seller_Type</th>\n",
       "      <th>Transmission</th>\n",
       "      <th>Owner</th>\n",
       "    </tr>\n",
       "  </thead>\n",
       "  <tbody>\n",
       "    <tr>\n",
       "      <th>0</th>\n",
       "      <td>ritz</td>\n",
       "      <td>2014</td>\n",
       "      <td>3.35</td>\n",
       "      <td>5.59</td>\n",
       "      <td>27000</td>\n",
       "      <td>Petrol</td>\n",
       "      <td>Dealer</td>\n",
       "      <td>Manual</td>\n",
       "      <td>0</td>\n",
       "    </tr>\n",
       "    <tr>\n",
       "      <th>1</th>\n",
       "      <td>sx4</td>\n",
       "      <td>2013</td>\n",
       "      <td>4.75</td>\n",
       "      <td>9.54</td>\n",
       "      <td>43000</td>\n",
       "      <td>Diesel</td>\n",
       "      <td>Dealer</td>\n",
       "      <td>Manual</td>\n",
       "      <td>0</td>\n",
       "    </tr>\n",
       "    <tr>\n",
       "      <th>2</th>\n",
       "      <td>ciaz</td>\n",
       "      <td>2017</td>\n",
       "      <td>7.25</td>\n",
       "      <td>9.85</td>\n",
       "      <td>6900</td>\n",
       "      <td>Petrol</td>\n",
       "      <td>Dealer</td>\n",
       "      <td>Manual</td>\n",
       "      <td>0</td>\n",
       "    </tr>\n",
       "    <tr>\n",
       "      <th>3</th>\n",
       "      <td>wagon r</td>\n",
       "      <td>2011</td>\n",
       "      <td>2.85</td>\n",
       "      <td>4.15</td>\n",
       "      <td>5200</td>\n",
       "      <td>Petrol</td>\n",
       "      <td>Dealer</td>\n",
       "      <td>Manual</td>\n",
       "      <td>0</td>\n",
       "    </tr>\n",
       "    <tr>\n",
       "      <th>4</th>\n",
       "      <td>swift</td>\n",
       "      <td>2014</td>\n",
       "      <td>4.60</td>\n",
       "      <td>6.87</td>\n",
       "      <td>42450</td>\n",
       "      <td>Diesel</td>\n",
       "      <td>Dealer</td>\n",
       "      <td>Manual</td>\n",
       "      <td>0</td>\n",
       "    </tr>\n",
       "    <tr>\n",
       "      <th>...</th>\n",
       "      <td>...</td>\n",
       "      <td>...</td>\n",
       "      <td>...</td>\n",
       "      <td>...</td>\n",
       "      <td>...</td>\n",
       "      <td>...</td>\n",
       "      <td>...</td>\n",
       "      <td>...</td>\n",
       "      <td>...</td>\n",
       "    </tr>\n",
       "    <tr>\n",
       "      <th>296</th>\n",
       "      <td>city</td>\n",
       "      <td>2016</td>\n",
       "      <td>9.50</td>\n",
       "      <td>11.60</td>\n",
       "      <td>33988</td>\n",
       "      <td>Diesel</td>\n",
       "      <td>Dealer</td>\n",
       "      <td>Manual</td>\n",
       "      <td>0</td>\n",
       "    </tr>\n",
       "    <tr>\n",
       "      <th>297</th>\n",
       "      <td>brio</td>\n",
       "      <td>2015</td>\n",
       "      <td>4.00</td>\n",
       "      <td>5.90</td>\n",
       "      <td>60000</td>\n",
       "      <td>Petrol</td>\n",
       "      <td>Dealer</td>\n",
       "      <td>Manual</td>\n",
       "      <td>0</td>\n",
       "    </tr>\n",
       "    <tr>\n",
       "      <th>298</th>\n",
       "      <td>city</td>\n",
       "      <td>2009</td>\n",
       "      <td>3.35</td>\n",
       "      <td>11.00</td>\n",
       "      <td>87934</td>\n",
       "      <td>Petrol</td>\n",
       "      <td>Dealer</td>\n",
       "      <td>Manual</td>\n",
       "      <td>0</td>\n",
       "    </tr>\n",
       "    <tr>\n",
       "      <th>299</th>\n",
       "      <td>city</td>\n",
       "      <td>2017</td>\n",
       "      <td>11.50</td>\n",
       "      <td>12.50</td>\n",
       "      <td>9000</td>\n",
       "      <td>Diesel</td>\n",
       "      <td>Dealer</td>\n",
       "      <td>Manual</td>\n",
       "      <td>0</td>\n",
       "    </tr>\n",
       "    <tr>\n",
       "      <th>300</th>\n",
       "      <td>brio</td>\n",
       "      <td>2016</td>\n",
       "      <td>5.30</td>\n",
       "      <td>5.90</td>\n",
       "      <td>5464</td>\n",
       "      <td>Petrol</td>\n",
       "      <td>Dealer</td>\n",
       "      <td>Manual</td>\n",
       "      <td>0</td>\n",
       "    </tr>\n",
       "  </tbody>\n",
       "</table>\n",
       "<p>301 rows × 9 columns</p>\n",
       "</div>"
      ],
      "text/plain": [
       "    Car_Name  Year  Selling_Price  Present_Price  Kms_Driven Fuel_Type  \\\n",
       "0       ritz  2014           3.35           5.59       27000    Petrol   \n",
       "1        sx4  2013           4.75           9.54       43000    Diesel   \n",
       "2       ciaz  2017           7.25           9.85        6900    Petrol   \n",
       "3    wagon r  2011           2.85           4.15        5200    Petrol   \n",
       "4      swift  2014           4.60           6.87       42450    Diesel   \n",
       "..       ...   ...            ...            ...         ...       ...   \n",
       "296     city  2016           9.50          11.60       33988    Diesel   \n",
       "297     brio  2015           4.00           5.90       60000    Petrol   \n",
       "298     city  2009           3.35          11.00       87934    Petrol   \n",
       "299     city  2017          11.50          12.50        9000    Diesel   \n",
       "300     brio  2016           5.30           5.90        5464    Petrol   \n",
       "\n",
       "    Seller_Type Transmission  Owner  \n",
       "0        Dealer       Manual      0  \n",
       "1        Dealer       Manual      0  \n",
       "2        Dealer       Manual      0  \n",
       "3        Dealer       Manual      0  \n",
       "4        Dealer       Manual      0  \n",
       "..          ...          ...    ...  \n",
       "296      Dealer       Manual      0  \n",
       "297      Dealer       Manual      0  \n",
       "298      Dealer       Manual      0  \n",
       "299      Dealer       Manual      0  \n",
       "300      Dealer       Manual      0  \n",
       "\n",
       "[301 rows x 9 columns]"
      ]
     },
     "execution_count": 4,
     "metadata": {},
     "output_type": "execute_result"
    }
   ],
   "source": [
    "df = pd.read_csv(\"car_data.csv\")\n",
    "df"
   ]
  },
  {
   "cell_type": "markdown",
   "id": "a1a1abb1-6b18-4d51-81bc-189d6a1fb687",
   "metadata": {},
   "source": [
    "# 1. How many rows and columns are in the dataset?"
   ]
  },
  {
   "cell_type": "code",
   "execution_count": 121,
   "id": "bc28d933-f9e5-484b-8d87-c5250b51841e",
   "metadata": {},
   "outputs": [
    {
     "name": "stdout",
     "output_type": "stream",
     "text": [
      "1. The dataset has 301 rows and 9 columns.\n"
     ]
    }
   ],
   "source": [
    "rows, columns = df.shape\n",
    "print(f\"1. The dataset has {rows} rows and {columns} columns.\")"
   ]
  },
  {
   "cell_type": "markdown",
   "id": "c58ccc91-770c-49dc-8ee3-d90ab21467fa",
   "metadata": {},
   "source": [
    "# 2. What are the data types of each column?"
   ]
  },
  {
   "cell_type": "code",
   "execution_count": 8,
   "id": "7cc6aa9b-9141-4321-9ba3-dc0e5a9dd626",
   "metadata": {},
   "outputs": [
    {
     "name": "stdout",
     "output_type": "stream",
     "text": [
      " \n",
      " 2. Data types : \n",
      "\n",
      " Car_Name          object\n",
      "Year               int64\n",
      "Selling_Price    float64\n",
      "Present_Price    float64\n",
      "Kms_Driven         int64\n",
      "Fuel_Type         object\n",
      "Seller_Type       object\n",
      "Transmission      object\n",
      "Owner              int64\n",
      "dtype: object\n"
     ]
    }
   ],
   "source": [
    "print(\" \\n 2. Data types : \\n\\n\" , df.dtypes)\n",
    "#df.info()"
   ]
  },
  {
   "cell_type": "markdown",
   "id": "fff4749b-987e-4760-8ac6-3df2a0d95ab0",
   "metadata": {},
   "source": [
    "# 3. Are there any missing values in the dataset?"
   ]
  },
  {
   "cell_type": "code",
   "execution_count": 10,
   "id": "2a7d136a-c049-4a51-8143-e2af309f5f35",
   "metadata": {},
   "outputs": [
    {
     "name": "stdout",
     "output_type": "stream",
     "text": [
      " \n",
      " 3. Null Value : \n",
      "\n",
      " Car_Name         0\n",
      "Year             0\n",
      "Selling_Price    0\n",
      "Present_Price    0\n",
      "Kms_Driven       0\n",
      "Fuel_Type        0\n",
      "Seller_Type      0\n",
      "Transmission     0\n",
      "Owner            0\n",
      "dtype: int64\n"
     ]
    }
   ],
   "source": [
    "print(\" \\n 3. Null Value : \\n\\n\" ,df.isnull().sum())\n",
    "#df.isnull().values.any()"
   ]
  },
  {
   "cell_type": "markdown",
   "id": "403ba741-7934-435d-98f9-0bdee33731ee",
   "metadata": {},
   "source": [
    "# 4. Are there any duplicate records?"
   ]
  },
  {
   "cell_type": "code",
   "execution_count": 17,
   "id": "824e5b85-3283-458e-b61e-5d3f2b6f9a33",
   "metadata": {},
   "outputs": [
    {
     "name": "stdout",
     "output_type": "stream",
     "text": [
      " 4.  Duplicate records :  2\n"
     ]
    }
   ],
   "source": [
    "print(\" 4.  Duplicate records : \" ,df.duplicated().sum())"
   ]
  },
  {
   "cell_type": "code",
   "execution_count": 19,
   "id": "d2e1b9d6-8d60-4fbe-a34d-7907538fd6ff",
   "metadata": {},
   "outputs": [
    {
     "data": {
      "text/html": [
       "<div>\n",
       "<style scoped>\n",
       "    .dataframe tbody tr th:only-of-type {\n",
       "        vertical-align: middle;\n",
       "    }\n",
       "\n",
       "    .dataframe tbody tr th {\n",
       "        vertical-align: top;\n",
       "    }\n",
       "\n",
       "    .dataframe thead th {\n",
       "        text-align: right;\n",
       "    }\n",
       "</style>\n",
       "<table border=\"1\" class=\"dataframe\">\n",
       "  <thead>\n",
       "    <tr style=\"text-align: right;\">\n",
       "      <th></th>\n",
       "      <th>Car_Name</th>\n",
       "      <th>Year</th>\n",
       "      <th>Selling_Price</th>\n",
       "      <th>Present_Price</th>\n",
       "      <th>Kms_Driven</th>\n",
       "      <th>Fuel_Type</th>\n",
       "      <th>Seller_Type</th>\n",
       "      <th>Transmission</th>\n",
       "      <th>Owner</th>\n",
       "    </tr>\n",
       "  </thead>\n",
       "  <tbody>\n",
       "    <tr>\n",
       "      <th>17</th>\n",
       "      <td>ertiga</td>\n",
       "      <td>2016</td>\n",
       "      <td>7.75</td>\n",
       "      <td>10.79</td>\n",
       "      <td>43000</td>\n",
       "      <td>Diesel</td>\n",
       "      <td>Dealer</td>\n",
       "      <td>Manual</td>\n",
       "      <td>0</td>\n",
       "    </tr>\n",
       "    <tr>\n",
       "      <th>93</th>\n",
       "      <td>fortuner</td>\n",
       "      <td>2015</td>\n",
       "      <td>23.00</td>\n",
       "      <td>30.61</td>\n",
       "      <td>40000</td>\n",
       "      <td>Diesel</td>\n",
       "      <td>Dealer</td>\n",
       "      <td>Automatic</td>\n",
       "      <td>0</td>\n",
       "    </tr>\n",
       "  </tbody>\n",
       "</table>\n",
       "</div>"
      ],
      "text/plain": [
       "    Car_Name  Year  Selling_Price  Present_Price  Kms_Driven Fuel_Type  \\\n",
       "17    ertiga  2016           7.75          10.79       43000    Diesel   \n",
       "93  fortuner  2015          23.00          30.61       40000    Diesel   \n",
       "\n",
       "   Seller_Type Transmission  Owner  \n",
       "17      Dealer       Manual      0  \n",
       "93      Dealer    Automatic      0  "
      ]
     },
     "execution_count": 19,
     "metadata": {},
     "output_type": "execute_result"
    }
   ],
   "source": [
    "df[df.duplicated()]"
   ]
  },
  {
   "cell_type": "code",
   "execution_count": 21,
   "id": "71bbacac-0e65-423c-9527-56d47ba449ba",
   "metadata": {},
   "outputs": [
    {
     "data": {
      "text/html": [
       "<div>\n",
       "<style scoped>\n",
       "    .dataframe tbody tr th:only-of-type {\n",
       "        vertical-align: middle;\n",
       "    }\n",
       "\n",
       "    .dataframe tbody tr th {\n",
       "        vertical-align: top;\n",
       "    }\n",
       "\n",
       "    .dataframe thead th {\n",
       "        text-align: right;\n",
       "    }\n",
       "</style>\n",
       "<table border=\"1\" class=\"dataframe\">\n",
       "  <thead>\n",
       "    <tr style=\"text-align: right;\">\n",
       "      <th></th>\n",
       "      <th>Car_Name</th>\n",
       "      <th>Year</th>\n",
       "      <th>Selling_Price</th>\n",
       "      <th>Present_Price</th>\n",
       "      <th>Kms_Driven</th>\n",
       "      <th>Fuel_Type</th>\n",
       "      <th>Seller_Type</th>\n",
       "      <th>Transmission</th>\n",
       "      <th>Owner</th>\n",
       "    </tr>\n",
       "  </thead>\n",
       "  <tbody>\n",
       "    <tr>\n",
       "      <th>15</th>\n",
       "      <td>ertiga</td>\n",
       "      <td>2016</td>\n",
       "      <td>7.75</td>\n",
       "      <td>10.79</td>\n",
       "      <td>43000</td>\n",
       "      <td>Diesel</td>\n",
       "      <td>Dealer</td>\n",
       "      <td>Manual</td>\n",
       "      <td>0</td>\n",
       "    </tr>\n",
       "    <tr>\n",
       "      <th>17</th>\n",
       "      <td>ertiga</td>\n",
       "      <td>2016</td>\n",
       "      <td>7.75</td>\n",
       "      <td>10.79</td>\n",
       "      <td>43000</td>\n",
       "      <td>Diesel</td>\n",
       "      <td>Dealer</td>\n",
       "      <td>Manual</td>\n",
       "      <td>0</td>\n",
       "    </tr>\n",
       "    <tr>\n",
       "      <th>51</th>\n",
       "      <td>fortuner</td>\n",
       "      <td>2015</td>\n",
       "      <td>23.00</td>\n",
       "      <td>30.61</td>\n",
       "      <td>40000</td>\n",
       "      <td>Diesel</td>\n",
       "      <td>Dealer</td>\n",
       "      <td>Automatic</td>\n",
       "      <td>0</td>\n",
       "    </tr>\n",
       "    <tr>\n",
       "      <th>93</th>\n",
       "      <td>fortuner</td>\n",
       "      <td>2015</td>\n",
       "      <td>23.00</td>\n",
       "      <td>30.61</td>\n",
       "      <td>40000</td>\n",
       "      <td>Diesel</td>\n",
       "      <td>Dealer</td>\n",
       "      <td>Automatic</td>\n",
       "      <td>0</td>\n",
       "    </tr>\n",
       "  </tbody>\n",
       "</table>\n",
       "</div>"
      ],
      "text/plain": [
       "    Car_Name  Year  Selling_Price  Present_Price  Kms_Driven Fuel_Type  \\\n",
       "15    ertiga  2016           7.75          10.79       43000    Diesel   \n",
       "17    ertiga  2016           7.75          10.79       43000    Diesel   \n",
       "51  fortuner  2015          23.00          30.61       40000    Diesel   \n",
       "93  fortuner  2015          23.00          30.61       40000    Diesel   \n",
       "\n",
       "   Seller_Type Transmission  Owner  \n",
       "15      Dealer       Manual      0  \n",
       "17      Dealer       Manual      0  \n",
       "51      Dealer    Automatic      0  \n",
       "93      Dealer    Automatic      0  "
      ]
     },
     "execution_count": 21,
     "metadata": {},
     "output_type": "execute_result"
    }
   ],
   "source": [
    "df[df.duplicated(keep=False)]"
   ]
  },
  {
   "cell_type": "markdown",
   "id": "bbb34f11-4ea8-45e7-a7b4-f4d8a573028e",
   "metadata": {},
   "source": [
    "# 5. What are the unique values in the Fuel_Type, Seller_Type, and Transmission columns?"
   ]
  },
  {
   "cell_type": "code",
   "execution_count": 24,
   "id": "75a7bc74-71b2-40be-9350-5b1df13e783e",
   "metadata": {},
   "outputs": [
    {
     "name": "stdout",
     "output_type": "stream",
     "text": [
      " \n",
      " 5. unique Values  in the Fuel_Type, Seller_Type, and Transmission columns :\n",
      "\n",
      "Unique values in Fuel_Type : ['Petrol' 'Diesel' 'CNG']\n",
      "Unique values in Seller_Type : ['Dealer' 'Individual']\n",
      "Unique values in Transmission : ['Manual' 'Automatic']\n"
     ]
    }
   ],
   "source": [
    "print(\" \\n 5. unique Values  in the Fuel_Type, Seller_Type, and Transmission columns :\\n\" )\n",
    "print(\"Unique values in Fuel_Type :\", df['Fuel_Type'].unique())\n",
    "print(\"Unique values in Seller_Type :\", df['Seller_Type'].unique())\n",
    "print(\"Unique values in Transmission :\", df['Transmission'].unique())"
   ]
  },
  {
   "cell_type": "markdown",
   "id": "b4f6bd23-54bc-40d2-b37b-65cbcac869a1",
   "metadata": {},
   "source": [
    "# 6. What is the average, maximum, and minimum Selling_Price?"
   ]
  },
  {
   "cell_type": "code",
   "execution_count": 27,
   "id": "f9146622-30f2-4862-9307-b763d628dbfe",
   "metadata": {},
   "outputs": [
    {
     "name": "stdout",
     "output_type": "stream",
     "text": [
      "\n",
      " 6. The Average, Maximum and Minimum Selling price are :\n",
      "\n",
      "Average Selling Price is $ 4.661295681063123\n",
      "Maximum Selling Price is $ 35.0\n",
      "Minimum Selling Price is $ 0.1\n"
     ]
    }
   ],
   "source": [
    "average_price = df['Selling_Price'].mean()\n",
    "max_price = df['Selling_Price'].max()\n",
    "min_price = df['Selling_Price'].min()\n",
    "\n",
    "print(\"\\n 6. The Average, Maximum and Minimum Selling price are :\\n\" )\n",
    "print(f\"Average Selling Price is $ {average_price}\")\n",
    "print(f\"Maximum Selling Price is $ {max_price}\")\n",
    "print(f\"Minimum Selling Price is $ {min_price}\")"
   ]
  },
  {
   "cell_type": "markdown",
   "id": "f56625da-4a46-471b-aa3d-c136a4e46b06",
   "metadata": {},
   "source": [
    "# 7. What is the average Selling_Price by Fuel_Type? "
   ]
  },
  {
   "cell_type": "code",
   "execution_count": 30,
   "id": "7e2373f4-62b5-4f41-b879-a4056a18f095",
   "metadata": {},
   "outputs": [
    {
     "name": "stdout",
     "output_type": "stream",
     "text": [
      "\n",
      " 7. The average Selling price by Fuel types : \n",
      "\n",
      " Fuel_Type\n",
      "CNG        3.100000\n",
      "Diesel    10.278500\n",
      "Petrol     3.264184\n",
      "Name: Selling_Price, dtype: float64\n"
     ]
    }
   ],
   "source": [
    "avg_price_by_fuel = df.groupby('Fuel_Type')['Selling_Price'].mean()\n",
    "print(\"\\n 7. The average Selling price by Fuel types : \\n\\n\" , avg_price_by_fuel)"
   ]
  },
  {
   "cell_type": "markdown",
   "id": "7c2080c3-9a2e-4bf3-ad49-0b276276a6ed",
   "metadata": {},
   "source": [
    "# 8. What is the average Selling_Price by Transmission type?"
   ]
  },
  {
   "cell_type": "code",
   "execution_count": 33,
   "id": "16d483ad-a402-45ff-8942-8277c875b51a",
   "metadata": {},
   "outputs": [
    {
     "name": "stdout",
     "output_type": "stream",
     "text": [
      "\n",
      " 8. The average Selling price by Transmission types : \n",
      "\n",
      " Transmission\n",
      "Automatic    9.420000\n",
      "Manual       3.931992\n",
      "Name: Selling_Price, dtype: float64\n"
     ]
    }
   ],
   "source": [
    "avg_price_by_transmission = df.groupby('Transmission')['Selling_Price'].mean()\n",
    "print(\"\\n 8. The average Selling price by Transmission types : \\n\\n\" ,avg_price_by_transmission)"
   ]
  },
  {
   "cell_type": "markdown",
   "id": "64091407-285c-426f-8850-aff70bfcc8ae",
   "metadata": {},
   "source": [
    "# 9. Which car model appears most frequently?"
   ]
  },
  {
   "cell_type": "code",
   "execution_count": 36,
   "id": "db1dcd1e-e690-44e2-9e12-e8f28233ec21",
   "metadata": {},
   "outputs": [
    {
     "name": "stdout",
     "output_type": "stream",
     "text": [
      " \n",
      " 9. The most frequently car model is 'city' with 26 occurrences.\n"
     ]
    }
   ],
   "source": [
    "most_common_model = df['Car_Name'].value_counts().idxmax()\n",
    "most_common_count = df['Car_Name'].value_counts().max()\n",
    "\n",
    "print(f\" \\n 9. The most frequently car model is '{most_common_model}' with {most_common_count} occurrences.\")"
   ]
  },
  {
   "cell_type": "code",
   "execution_count": 38,
   "id": "67574423-75d3-481c-8f32-f4b0a80cc0d7",
   "metadata": {},
   "outputs": [
    {
     "data": {
      "text/plain": [
       "Car_Name\n",
       "city             26\n",
       "corolla altis    16\n",
       "verna            14\n",
       "fortuner         11\n",
       "brio             10\n",
       "Name: count, dtype: int64"
      ]
     },
     "execution_count": 38,
     "metadata": {},
     "output_type": "execute_result"
    }
   ],
   "source": [
    "df['Car_Name'].value_counts().head()"
   ]
  },
  {
   "cell_type": "markdown",
   "id": "0a476c7f-370e-48d5-8f9d-47873952dd55",
   "metadata": {},
   "source": [
    "# 10. What is the average Selling_Price for each car model?"
   ]
  },
  {
   "cell_type": "code",
   "execution_count": 41,
   "id": "1d8ef535-4b07-446d-bb90-22b2e326106c",
   "metadata": {},
   "outputs": [
    {
     "name": "stdout",
     "output_type": "stream",
     "text": [
      " \n",
      " 10. The average Selling_Price for each car model : \n",
      "\n",
      " Car_Name\n",
      "land cruiser           35.000000\n",
      "fortuner               18.685455\n",
      "innova                 12.777778\n",
      "creta                  11.800000\n",
      "elantra                11.600000\n",
      "                         ...    \n",
      "Hero  CBZ Xtreme        0.200000\n",
      "Hero Hunk               0.200000\n",
      "Hero Super Splendor     0.200000\n",
      "Bajaj  ct 100           0.180000\n",
      "Bajaj Discover 125      0.175000\n",
      "Name: Selling_Price, Length: 98, dtype: float64\n"
     ]
    }
   ],
   "source": [
    "avg_price_by_model = df.groupby('Car_Name')['Selling_Price'].mean().sort_values(ascending=False)\n",
    "print(f\" \\n 10. The average Selling_Price for each car model : \\n\\n\" , avg_price_by_model)"
   ]
  },
  {
   "cell_type": "markdown",
   "id": "66d1c95e-fc15-474e-a63c-89c3e39b7be1",
   "metadata": {},
   "source": [
    "# 11. What is the range of years in the dataset (min and max Year)?"
   ]
  },
  {
   "cell_type": "code",
   "execution_count": 44,
   "id": "6e05fc38-e8ee-4135-97be-921fc9a606f3",
   "metadata": {},
   "outputs": [
    {
     "name": "stdout",
     "output_type": "stream",
     "text": [
      "\n",
      " 11. The range of years (min and max Year) : \n",
      "\n",
      "Minimum Year: 2003\n",
      "Maximum Year: 2018\n"
     ]
    }
   ],
   "source": [
    "min_year = df['Year'].min()\n",
    "max_year = df['Year'].max()\n",
    "\n",
    "print(f\"\\n 11. The range of years (min and max Year) : \\n\")\n",
    "print(f\"Minimum Year: {min_year}\")\n",
    "print(f\"Maximum Year: {max_year}\")"
   ]
  },
  {
   "cell_type": "markdown",
   "id": "4181734d-be37-44c5-b78f-50bf41a27ee7",
   "metadata": {},
   "source": [
    "# 12. What is the average Selling_Price grouped by Year?"
   ]
  },
  {
   "cell_type": "code",
   "execution_count": 47,
   "id": "936e90ff-5662-4c4b-8136-23bb6fd966c0",
   "metadata": {},
   "outputs": [
    {
     "name": "stdout",
     "output_type": "stream",
     "text": [
      "\n",
      " 12. The average Selling price by Year : \n",
      "\n",
      " Year\n",
      "2003    1.300000\n",
      "2004    1.500000\n",
      "2005    2.487500\n",
      "2006    1.437500\n",
      "2007    0.160000\n",
      "2008    1.002857\n",
      "2009    2.816667\n",
      "2010    5.262667\n",
      "2011    2.375263\n",
      "2012    3.841304\n",
      "2013    3.540909\n",
      "2014    4.762105\n",
      "2015    5.927049\n",
      "2016    5.213200\n",
      "2017    6.209143\n",
      "2018    9.250000\n",
      "Name: Selling_Price, dtype: float64\n"
     ]
    }
   ],
   "source": [
    "avg_price_by_year = df.groupby('Year')['Selling_Price'].mean().sort_index()\n",
    "print(\"\\n 12. The average Selling price by Year : \\n\\n\" , avg_price_by_year)"
   ]
  },
  {
   "cell_type": "markdown",
   "id": "20e04270-3ead-4bfc-8a5c-ab5546be4812",
   "metadata": {},
   "source": [
    "# 13. What is the most common number of owners (from the Owner column)?"
   ]
  },
  {
   "cell_type": "code",
   "execution_count": 50,
   "id": "4d4639e4-be2c-4313-9bc3-86b12fffbae3",
   "metadata": {},
   "outputs": [
    {
     "name": "stdout",
     "output_type": "stream",
     "text": [
      "\n",
      " 13. The most common number of owners is: 0 (appears 290 times)\n"
     ]
    }
   ],
   "source": [
    "most_common_owner = df['Owner'].value_counts().idxmax()\n",
    "most_common_count = df['Owner'].value_counts().max()\n",
    "\n",
    "print(f\"\\n 13. The most common number of owners is: {most_common_owner} (appears {most_common_count} times)\")"
   ]
  },
  {
   "cell_type": "code",
   "execution_count": 52,
   "id": "a5eaaed9-b46c-4c98-91c4-a8fb68644212",
   "metadata": {},
   "outputs": [
    {
     "data": {
      "text/plain": [
       "Owner\n",
       "0    290\n",
       "1     10\n",
       "3      1\n",
       "Name: count, dtype: int64"
      ]
     },
     "execution_count": 52,
     "metadata": {},
     "output_type": "execute_result"
    }
   ],
   "source": [
    "df['Owner'].value_counts()"
   ]
  },
  {
   "cell_type": "markdown",
   "id": "99ce48ef-2aa3-441f-828e-9b68a65d5174",
   "metadata": {},
   "source": [
    "# 14. What is the average number of kilometers driven (Kms_Driven)?"
   ]
  },
  {
   "cell_type": "code",
   "execution_count": 55,
   "id": "8579691d-920a-4c49-97a4-70aa7fffaadc",
   "metadata": {},
   "outputs": [
    {
     "name": "stdout",
     "output_type": "stream",
     "text": [
      "\n",
      " 14. Average Kms Driven: 36947.21\n"
     ]
    }
   ],
   "source": [
    "average_kms = df['Kms_Driven'].mean()\n",
    "print(f\"\\n 14. Average Kms Driven: {average_kms:.2f}\")"
   ]
  },
  {
   "cell_type": "markdown",
   "id": "f9792fbf-a9c6-4f5b-adf5-1aaa33acf8b5",
   "metadata": {},
   "source": [
    "# 15. Which car has the highest Present_Price?"
   ]
  },
  {
   "cell_type": "code",
   "execution_count": 58,
   "id": "1d63b3d7-9314-4672-b891-55270d4ebd17",
   "metadata": {},
   "outputs": [
    {
     "name": "stdout",
     "output_type": "stream",
     "text": [
      "\n",
      " 15. The highest Present_Price of car : \n",
      "\n",
      "          Car_Name  Year  Selling_Price  Present_Price  Kms_Driven Fuel_Type  \\\n",
      "86  land cruiser  2010           35.0           92.6       78000    Diesel   \n",
      "\n",
      "   Seller_Type Transmission  Owner  \n",
      "86      Dealer       Manual      0  \n"
     ]
    }
   ],
   "source": [
    "max_price_row = df[df['Present_Price'] ==  df['Present_Price'].max()]\n",
    "print(f\"\\n 15. The highest Present_Price of car : \\n\\n \" , max_price_row)"
   ]
  },
  {
   "cell_type": "markdown",
   "id": "9aeb38e2-070b-423c-b605-4d62a5bc7460",
   "metadata": {},
   "source": [
    "# 16. What is correlation between Selling_Price, Present_Price, and Kms_Driven?"
   ]
  },
  {
   "cell_type": "code",
   "execution_count": 61,
   "id": "884f6442-26f1-462c-a5b7-999bc0cfaa88",
   "metadata": {},
   "outputs": [
    {
     "name": "stdout",
     "output_type": "stream",
     "text": [
      "\n",
      " 16. The correlation between Selling_Price, Present_Price, and Kms_Driven : \n",
      "\n",
      "                 Selling_Price  Present_Price  Kms_Driven\n",
      "Selling_Price       1.000000       0.878983    0.029187\n",
      "Present_Price       0.878983       1.000000    0.203647\n",
      "Kms_Driven          0.029187       0.203647    1.000000\n"
     ]
    }
   ],
   "source": [
    "correlation = df[['Selling_Price', 'Present_Price', 'Kms_Driven']].corr()\n",
    "print(f\"\\n 16. The correlation between Selling_Price, Present_Price, and Kms_Driven : \\n\\n \" , correlation)"
   ]
  },
  {
   "cell_type": "markdown",
   "id": "d09d6ddc-9f5d-41a0-a098-cef479f40df5",
   "metadata": {},
   "source": [
    "# 17. Which Seller_Type has the highest average Selling_Price?"
   ]
  },
  {
   "cell_type": "code",
   "execution_count": 954,
   "id": "90fa65c0-9069-4198-805c-fab0bec2f6f9",
   "metadata": {},
   "outputs": [
    {
     "name": "stdout",
     "output_type": "stream",
     "text": [
      "\n",
      " 17. Seller_Type has the highest average Selling_Price : \n",
      "\n",
      "  Seller_Type\n",
      "Dealer        6.721692\n",
      "Individual    0.870943\n",
      "Name: Selling_Price, dtype: float64\n"
     ]
    }
   ],
   "source": [
    "avg_price_by_seller = df.groupby('Seller_Type')['Selling_Price'].mean().sort_values(ascending = False)\n",
    "print(f\"\\n 17. Seller_Type has the highest average Selling_Price : \\n\\n \", avg_price_by_seller)"
   ]
  },
  {
   "cell_type": "markdown",
   "id": "c09911fe-b393-4eef-a143-defece60cc91",
   "metadata": {},
   "source": [
    "# 18. How many cars are there of each Fuel_Type?"
   ]
  },
  {
   "cell_type": "code",
   "execution_count": 64,
   "id": "25527cc2-387f-4588-b0f1-4c72879573f8",
   "metadata": {},
   "outputs": [
    {
     "name": "stdout",
     "output_type": "stream",
     "text": [
      "\n",
      " 18. No. of Cars based on there fuel_types : \n",
      "\n",
      " Fuel_Type\n",
      "Petrol    239\n",
      "Diesel     60\n",
      "CNG         2\n",
      "Name: count, dtype: int64\n"
     ]
    }
   ],
   "source": [
    "fuel_counts = df['Fuel_Type'].value_counts()\n",
    "print(f\"\\n 18. No. of Cars based on there fuel_types : \\n\\n\", fuel_counts)"
   ]
  },
  {
   "cell_type": "markdown",
   "id": "c2431dcd-f3b3-47e6-9bab-606370df14c5",
   "metadata": {},
   "source": [
    "# 19. How many cars have more than one previous owner?"
   ]
  },
  {
   "cell_type": "code",
   "execution_count": 67,
   "id": "cde26453-f65f-4923-b9a6-75f2c266298d",
   "metadata": {},
   "outputs": [
    {
     "name": "stdout",
     "output_type": "stream",
     "text": [
      "\n",
      " 19. Number of cars with more than one previous owner : 1\n",
      "\n",
      "   Car_Name  Year  Owner  Selling_Price\n",
      "85    camry  2006      3            2.5\n"
     ]
    }
   ],
   "source": [
    "cars_more_than_one_owner = df[df['Owner'] > 1]\n",
    "count = cars_more_than_one_owner.shape[0]\n",
    "\n",
    "print(f\"\\n 19. Number of cars with more than one previous owner : {count}\\n\")\n",
    "print(cars_more_than_one_owner[['Car_Name', 'Year', 'Owner', 'Selling_Price']])"
   ]
  },
  {
   "cell_type": "markdown",
   "id": "eac83b23-74c2-4b82-a88e-2fa9e6a1e406",
   "metadata": {},
   "source": [
    "# 20. What are the top 5 most expensive cars in the dataset?"
   ]
  },
  {
   "cell_type": "code",
   "execution_count": 70,
   "id": "07cceb3b-4f75-4f9f-864b-cb0426eff2c0",
   "metadata": {},
   "outputs": [
    {
     "name": "stdout",
     "output_type": "stream",
     "text": [
      "\n",
      " 20. The top 5 most expensive cars :\n",
      "\n",
      "          Car_Name  Year  Selling_Price  Present_Price  Kms_Driven Fuel_Type  \\\n",
      "86  land cruiser  2010           35.0          92.60       78000    Diesel   \n",
      "64      fortuner  2017           33.0          36.23        6000    Diesel   \n",
      "63      fortuner  2015           23.5          35.96       47000    Diesel   \n",
      "82        innova  2017           23.0          25.39       15000    Diesel   \n",
      "51      fortuner  2015           23.0          30.61       40000    Diesel   \n",
      "\n",
      "   Seller_Type Transmission  Owner  \n",
      "86      Dealer       Manual      0  \n",
      "64      Dealer    Automatic      0  \n",
      "63      Dealer    Automatic      0  \n",
      "82      Dealer    Automatic      0  \n",
      "51      Dealer    Automatic      0  \n"
     ]
    }
   ],
   "source": [
    "top_5_expensive = df.sort_values(by='Selling_Price', ascending=False).head(5)\n",
    "print(f\"\\n 20. The top 5 most expensive cars :\\n\\n \", top_5_expensive)"
   ]
  },
  {
   "cell_type": "markdown",
   "id": "187d6ce5-6e4e-4620-8a99-85a7c77a96aa",
   "metadata": {},
   "source": [
    "# 21. What is the average difference between Present_Price and Selling_Price?"
   ]
  },
  {
   "cell_type": "code",
   "execution_count": 73,
   "id": "73b02936-1c2e-48c5-921f-7c7b6b81e2a1",
   "metadata": {},
   "outputs": [
    {
     "name": "stdout",
     "output_type": "stream",
     "text": [
      " \n",
      " 21. Average difference between Present_Price and Selling_Price : 2.97\n"
     ]
    }
   ],
   "source": [
    "average_difference = (df['Present_Price'] - df['Selling_Price']).mean()\n",
    "print(f\" \\n 21. Average difference between Present_Price and Selling_Price : {average_difference:.2f}\")"
   ]
  },
  {
   "cell_type": "markdown",
   "id": "ae2f9b43-093a-4de1-96a0-c2fde2ebe254",
   "metadata": {},
   "source": [
    "# 22. How many cars are being sold by individual sellers vs dealers?"
   ]
  },
  {
   "cell_type": "code",
   "execution_count": 89,
   "id": "bbbec174-98ae-4009-b09b-47162f5011b0",
   "metadata": {},
   "outputs": [
    {
     "name": "stdout",
     "output_type": "stream",
     "text": [
      " \n",
      " 22. Number of cars are being sold by individual sellers vs dealers : \n",
      "\n",
      "   Seller_Type\n",
      "Dealer        195\n",
      "Individual    106\n",
      "Name: count, dtype: int64\n"
     ]
    }
   ],
   "source": [
    "seller_counts = df['Seller_Type'].value_counts()\n",
    "print(f\" \\n 22. Number of cars are being sold by individual sellers vs dealers : \\n\\n  \" ,seller_counts)"
   ]
  },
  {
   "cell_type": "markdown",
   "id": "5b039790-97a5-4096-abf2-d3afce2d6b9f",
   "metadata": {},
   "source": [
    "# 23. How many cars were manufactured before 2010?"
   ]
  },
  {
   "cell_type": "code",
   "execution_count": 92,
   "id": "9a3f1798-8ebd-46e9-85ef-e16effdfa412",
   "metadata": {},
   "outputs": [
    {
     "name": "stdout",
     "output_type": "stream",
     "text": [
      "23. Total number of cars manufactured before 2010 : 26\n"
     ]
    }
   ],
   "source": [
    "count = cars_before_2010.shape[0]\n",
    "print(f\"23. Total number of cars manufactured before 2010 : {count}\")\n"
   ]
  },
  {
   "cell_type": "code",
   "execution_count": 94,
   "id": "60c2aa55-6951-4fff-a64a-a52883ba973e",
   "metadata": {},
   "outputs": [
    {
     "name": "stdout",
     "output_type": "stream",
     "text": [
      "     Year                   Car_Name\n",
      "14   2009                      dzire\n",
      "37   2003                        800\n",
      "39   2003                        sx4\n",
      "42   2008                        sx4\n",
      "47   2006                    wagon r\n",
      "54   2005                     innova\n",
      "55   2009              corolla altis\n",
      "77   2004                    corolla\n",
      "84   2005                     innova\n",
      "85   2006                      camry\n",
      "90   2009              corolla altis\n",
      "92   2005                     innova\n",
      "94   2008              corolla altis\n",
      "125  2009  Royal Enfield Classic 500\n",
      "184  2008           Bajaj Pulsar 150\n",
      "185  2008          Suzuki Access 125\n",
      "189  2005        Hero Super Splendor\n",
      "190  2008           Bajaj Pulsar 150\n",
      "192  2007                  Hero Hunk\n",
      "194  2008           Hero  CBZ Xtreme\n",
      "196  2008                  Activa 3g\n",
      "199  2007             Honda CB Shine\n",
      "200  2006           Bajaj Pulsar 150\n",
      "271  2009                       city\n",
      "281  2006                       city\n",
      "298  2009                       city\n"
     ]
    }
   ],
   "source": [
    "cars_before_2010 = df[df['Year'] < 2010][['Year', 'Car_Name']]\n",
    "print(cars_before_2010)"
   ]
  },
  {
   "cell_type": "markdown",
   "id": "69db63d6-ad98-4867-89c1-cb5f98a1f51f",
   "metadata": {},
   "source": [
    "# 24. Which year has the highest number of car listings?"
   ]
  },
  {
   "cell_type": "code",
   "execution_count": 97,
   "id": "e1176f62-86ce-405a-b4e3-d00937c8cad2",
   "metadata": {},
   "outputs": [
    {
     "name": "stdout",
     "output_type": "stream",
     "text": [
      "24. The year with the highest number of car listings is 2015 with 61 listings.\n"
     ]
    }
   ],
   "source": [
    "most_listings_year = df['Year'].value_counts().idxmax()\n",
    "listing_count = df['Year'].value_counts().max()\n",
    "\n",
    "print(f\"24. The year with the highest number of car listings is {most_listings_year} with {listing_count} listings.\")\n"
   ]
  },
  {
   "cell_type": "markdown",
   "id": "29a986ee-c5ba-4623-9466-aee25ed0ec5c",
   "metadata": {},
   "source": [
    "# 25. What percentage of cars are using diesel vs petrol vs CNG?"
   ]
  },
  {
   "cell_type": "code",
   "execution_count": 100,
   "id": "9ad12d6d-3c37-4240-8026-d5f2c9f972f3",
   "metadata": {},
   "outputs": [
    {
     "name": "stdout",
     "output_type": "stream",
     "text": [
      " 25. Total Number of percentage of cars are using diesel vs petrol vs CNG : \n",
      "\n",
      " Fuel_Type\n",
      "Petrol    79.401993\n",
      "Diesel    19.933555\n",
      "CNG        0.664452\n",
      "Name: proportion, dtype: float64\n"
     ]
    }
   ],
   "source": [
    "fuel_percentages = df['Fuel_Type'].value_counts(normalize=True) * 100\n",
    "print(f\" 25. Total Number of percentage of cars are using diesel vs petrol vs CNG : \\n\\n\", fuel_percentages)\n"
   ]
  },
  {
   "cell_type": "markdown",
   "id": "9f8f4dbb-9b3e-4564-bac2-4f75840a27f3",
   "metadata": {},
   "source": [
    "# 26. What is the highest and lowest Kms_Driven for each fuel type?"
   ]
  },
  {
   "cell_type": "code",
   "execution_count": 103,
   "id": "c16502d7-1504-4c6f-ab71-2e79b8590226",
   "metadata": {},
   "outputs": [
    {
     "name": "stdout",
     "output_type": "stream",
     "text": [
      " 26. the highest and lowest Kms_Driven for each fuel type : \n",
      "              min     max\n",
      "Fuel_Type               \n",
      "CNG        35500   49998\n",
      "Diesel      2071  197176\n",
      "Petrol       500  500000\n"
     ]
    }
   ],
   "source": [
    "kms_stats_by_fuel = df.groupby('Fuel_Type')['Kms_Driven'].agg(['min', 'max'])\n",
    "print(f\" 26. the highest and lowest Kms_Driven for each fuel type : \\n\" , kms_stats_by_fuel)\n"
   ]
  },
  {
   "cell_type": "markdown",
   "id": "d08a5a69-9142-44b9-bfd2-91e8a0899aaf",
   "metadata": {},
   "source": [
    "# 27. How many cars were sold with exactly 0 previous owners?"
   ]
  },
  {
   "cell_type": "code",
   "execution_count": 106,
   "id": "2e9bc75c-a070-4f3c-95e5-47530e05985b",
   "metadata": {},
   "outputs": [
    {
     "name": "stdout",
     "output_type": "stream",
     "text": [
      " 27. Number of cars with 0 previous owners: 290\n"
     ]
    }
   ],
   "source": [
    "zero_owner_count = df[df['Owner'] == 0].shape[0]\n",
    "print(f\" 27. Number of cars with 0 previous owners: {zero_owner_count}\")"
   ]
  },
  {
   "cell_type": "markdown",
   "id": "6182866f-ca64-4820-b19a-96a6dbf34930",
   "metadata": {},
   "source": [
    "# 28. How many unique combinations of Fuel_Type, Seller_Type, and Transmission exist?\n"
   ]
  },
  {
   "cell_type": "code",
   "execution_count": 109,
   "id": "fe450ad5-f5ab-43ab-b46a-94d6922b4d92",
   "metadata": {},
   "outputs": [
    {
     "name": "stdout",
     "output_type": "stream",
     "text": [
      " 28. Number of unique combinations of Fuel_Type, Seller_Type, and Transmission : 8\n"
     ]
    }
   ],
   "source": [
    "unique_combinations = df[['Fuel_Type', 'Seller_Type', 'Transmission']].drop_duplicates()\n",
    "count_unique_combinations = unique_combinations.shape[0]\n",
    "\n",
    "print(f\" 28. Number of unique combinations of Fuel_Type, Seller_Type, and Transmission : {count_unique_combinations}\")"
   ]
  },
  {
   "cell_type": "code",
   "execution_count": 111,
   "id": "cc9c230c-2c51-4abf-b712-4f9e047792e2",
   "metadata": {},
   "outputs": [
    {
     "name": "stdout",
     "output_type": "stream",
     "text": [
      "Details of those unique combinations : \n",
      "\n",
      "  Fuel_Type Seller_Type Transmission\n",
      "0    Petrol      Dealer       Manual\n",
      "1    Diesel      Dealer       Manual\n",
      "2    Petrol      Dealer    Automatic\n",
      "3       CNG      Dealer       Manual\n",
      "4    Petrol  Individual       Manual\n",
      "5    Diesel      Dealer    Automatic\n",
      "6    Diesel  Individual    Automatic\n",
      "7    Petrol  Individual    Automatic\n"
     ]
    }
   ],
   "source": [
    "print(\"Details of those unique combinations : \\n\")\n",
    "print( unique_combinations.reset_index(drop=True))"
   ]
  },
  {
   "cell_type": "markdown",
   "id": "e6810c7a-741c-4e5c-ba9a-b904bda5072c",
   "metadata": {},
   "source": [
    "# 29. What is the average Selling_Price of cars that have more than 2 previous owners?"
   ]
  },
  {
   "cell_type": "code",
   "execution_count": 114,
   "id": "480d61ca-31dd-4b8b-b3e9-339d915c01f9",
   "metadata": {},
   "outputs": [
    {
     "name": "stdout",
     "output_type": "stream",
     "text": [
      "\n",
      " 29. Average Selling_Price for cars with more than 2 previous owners: 2.50\n"
     ]
    }
   ],
   "source": [
    "avg_price_more_than_2_owners = df[df['Owner'] > 2]['Selling_Price'].mean()\n",
    "print(f\"\\n 29. Average Selling_Price for cars with more than 2 previous owners: {avg_price_more_than_2_owners :.2f}\")"
   ]
  },
  {
   "cell_type": "markdown",
   "id": "d83423ad-71b9-4528-8511-106f5ac9bd77",
   "metadata": {},
   "source": [
    "# 30. Are there any cars where Selling_Price is greater than Present_Price?"
   ]
  },
  {
   "cell_type": "code",
   "execution_count": 117,
   "id": "77b043cc-5bcf-464b-9ca4-bb69eb8878e0",
   "metadata": {},
   "outputs": [
    {
     "name": "stdout",
     "output_type": "stream",
     "text": [
      "\n",
      " 30. Number of cars where Selling_Price > Present_Price : 0\n"
     ]
    }
   ],
   "source": [
    "higher_selling_price = df[df['Selling_Price'] > df['Present_Price']]\n",
    "count = higher_selling_price.shape[0]\n",
    "\n",
    "print(f\"\\n 30. Number of cars where Selling_Price > Present_Price : {count}\")"
   ]
  },
  {
   "cell_type": "code",
   "execution_count": null,
   "id": "4a907c98-cb93-4a9d-895f-cf37ca809a1e",
   "metadata": {},
   "outputs": [],
   "source": []
  },
  {
   "cell_type": "code",
   "execution_count": null,
   "id": "7dd9c423-fbcb-4095-a472-5244437d082d",
   "metadata": {},
   "outputs": [],
   "source": []
  },
  {
   "cell_type": "code",
   "execution_count": null,
   "id": "5e0526bd-c105-4346-9629-a6cfea0b8b2e",
   "metadata": {},
   "outputs": [],
   "source": []
  }
 ],
 "metadata": {
  "kernelspec": {
   "display_name": "Python [conda env:anaconda3]",
   "language": "python",
   "name": "conda-env-anaconda3-py"
  },
  "language_info": {
   "codemirror_mode": {
    "name": "ipython",
    "version": 3
   },
   "file_extension": ".py",
   "mimetype": "text/x-python",
   "name": "python",
   "nbconvert_exporter": "python",
   "pygments_lexer": "ipython3",
   "version": "3.12.7"
  }
 },
 "nbformat": 4,
 "nbformat_minor": 5
}
